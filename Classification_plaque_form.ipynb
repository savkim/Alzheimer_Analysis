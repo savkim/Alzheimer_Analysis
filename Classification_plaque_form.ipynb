{
 "cells": [
  {
   "cell_type": "markdown",
   "metadata": {},
   "source": [
    "# Classification Analysis\n",
    "\n",
    "<br>\n",
    "\n",
    "**Aim:**\n",
    "\n",
    "To investigate structural heterogeneity (variability) of amyloid deposits found in familial vs. sporadic Alzheimer’s disease with various forms coexisting, segregated between the parenchyma and cerebrovasculature\n"
   ]
  },
  {
   "cell_type": "code",
   "execution_count": 2,
   "metadata": {},
   "outputs": [],
   "source": [
    "from __future__ import print_function, division\n",
    "import numpy as np\n",
    "import matplotlib.pyplot as plt\n",
    "import os # for operating system commands like dealing with paths\n",
    "import pandas\n",
    "\n",
    "# df = pandas.read_csv('Dataset.csv')\n",
    "# print(df)\n",
    "\n",
    "test_data_path = 'Dataset_test.csv'\n",
    "train_data_path = 'Dataset_train.csv'\n",
    "\n",
    "# DATA_PATH = 'C:\\Users\\Savina\\Documents\\2018-19 Spring\\Courses\\Quant Big Imaging\\Final Project\\Images\\Dataset' # where are the test.csv and train.csv files located\n",
    "# test_data_path = os.path.join(DATA_PATH, 'Dataset.csv')\n",
    "# train_data_path = os.path.join(DATA_PATH, 'Dataset_2.csv')\n",
    "\n",
    "%%time\n",
    "\n",
    "# Load in data\n",
    "# This takes some time so so be patient\n",
    "train_data = np.loadtxt(train_data_path, delimiter = ',')\n",
    "numb_id = train_data[:,0] # number id\n",
    "numb_vec = train_data[:,1:] # array of the images\n",
    "print(numb_vec[11,110])"
   ]
  },
  {
   "cell_type": "code",
   "execution_count": 4,
   "metadata": {},
   "outputs": [
    {
     "name": "stdout",
     "output_type": "stream",
     "text": [
      "Input Data: (15, 785)\n",
      "Number ID: (15,)\n",
      "Number Vector: (15, 784)\n"
     ]
    }
   ],
   "source": [
    "# print('Input Data:', train_data.shape)\n",
    "# print('Number ID:', numb_id.shape)\n",
    "# print('Number Vector:', numb_vec.shape)"
   ]
  },
  {
   "cell_type": "code",
   "execution_count": 5,
   "metadata": {},
   "outputs": [
    {
     "name": "stdout",
     "output_type": "stream",
     "text": [
      "Number Image (15, 28, 28)\n"
     ]
    }
   ],
   "source": [
    "numb_image = numb_vec.reshape(-1, 28, 28)\n",
    "print('Number Image', numb_image.shape)"
   ]
  },
  {
   "cell_type": "code",
   "execution_count": 8,
   "metadata": {},
   "outputs": [
    {
     "data": {
      "text/plain": [
       "(-0.5, 27.5, 27.5, -0.5)"
      ]
     },
     "execution_count": 8,
     "metadata": {},
     "output_type": "execute_result"
    },
    {
     "data": {
      "image/png": "[encoded data removed]",
      "text/plain": [
       "<Figure size 432x288 with 1 Axes>"
      ]
     },
     "metadata": {
      "needs_background": "light"
     },
     "output_type": "display_data"
    }
   ],
   "source": [
    "%matplotlib inline\n",
    "fig, ax1 = plt.subplots(1,1)\n",
    "ax1.matshow(numb_image[0], cmap = 'gray')\n",
    "ax1.set_title('Current Digit {}'.format(numb_id[0]))\n",
    "ax1.axis('off')"
   ]
  },
  {
   "cell_type": "code",
   "execution_count": 9,
   "metadata": {},
   "outputs": [
    {
     "data": {
      "text/plain": [
       "(-0.5, 27.5, 27.5, -0.5)"
      ]
     },
     "execution_count": 9,
     "metadata": {},
     "output_type": "execute_result"
    },
    {
     "data": {
      "image/png": "[encoded data removed]",
      "text/plain": [
       "<Figure size 432x288 with 2 Axes>"
      ]
     },
     "metadata": {
      "needs_background": "light"
     },
     "output_type": "display_data"
    }
   ],
   "source": [
    "from skimage.measure import label # connected component labeling\n",
    "def seg_and_label(in_image):\n",
    "    norm_image = (in_image - in_image.mean())/in_image.std()\n",
    "    return (norm_image>0.5).astype(np.uint8)\n",
    "\n",
    "fig, (ax1,ax2) = plt.subplots(1,2)\n",
    "ax1.matshow(numb_image[0], cmap = 'gray')\n",
    "ax1.set_title('Current Digit {}'.format(numb_id[0]))\n",
    "ax1.axis('off')\n",
    "ax2.matshow(seg_and_label(numb_image[0]),cmap='gist_earth')\n",
    "ax2.set_title('Segmented and Labeled')\n",
    "ax2.axis('off')"
   ]
  },
  {
   "cell_type": "markdown",
   "metadata": {},
   "source": [
    "# Shape Analysis\n",
    "\n",
    "Used on image to quantify it in a few simple parameters"
   ]
  },
  {
   "cell_type": "code",
   "execution_count": 10,
   "metadata": {},
   "outputs": [
    {
     "name": "stderr",
     "output_type": "stream",
     "text": [
      "/Users/sav/opt/anaconda3/lib/python3.7/site-packages/skimage/measure/_regionprops.py:250: UserWarning: regionprops and image moments (including moments, normalized moments, central moments, and inertia tensor) of 2D images will change from xy coordinates to rc coordinates in version 0.16.\n",
      "See https://scikit-image.org/docs/0.14.x/release_notes_and_installation.html#deprecations for details on how to avoid this message.\n",
      "  warn(XY_TO_RC_DEPRECATION_MESSAGE)\n",
      "/Users/sav/opt/anaconda3/lib/python3.7/site-packages/skimage/measure/_regionprops.py:260: UserWarning: regionprops and image moments (including moments, normalized moments, central moments, and inertia tensor) of 2D images will change from xy coordinates to rc coordinates in version 0.16.\n",
      "See https://scikit-image.org/docs/0.14.x/release_notes_and_installation.html#deprecations for details on how to avoid this message.\n",
      "  warn(XY_TO_RC_DEPRECATION_MESSAGE)\n"
     ]
    },
    {
     "data": {
      "text/plain": [
       "{'total_area': 151,\n",
       " 'total_perimeter': 60.83452377915607,\n",
       " 'mean_anisotropy': 0.08432950318878561,\n",
       " 'mean_orientation': 1.3293836392660503}"
      ]
     },
     "execution_count": 10,
     "metadata": {},
     "output_type": "execute_result"
    }
   ],
   "source": [
    "from skimage.measure import regionprops\n",
    "def shape_analysis(in_label):\n",
    "    try:\n",
    "        mean_anisotropy=np.mean([(freg.major_axis_length-freg.minor_axis_length)/freg.minor_axis_length \n",
    "                                 for freg in regionprops(in_label)])\n",
    "    except ZeroDivisionError:\n",
    "        mean_anisotropy = 0\n",
    "    return dict(\n",
    "           total_area=np.sum([freg.area for freg in regionprops(in_label)]),\n",
    "    total_perimeter=np.sum([freg.perimeter for freg in regionprops(in_label)]),\n",
    "    mean_anisotropy=mean_anisotropy,\n",
    "        mean_orientation=np.mean([freg.orientation for freg in regionprops(in_label)])\n",
    "               )\n",
    "\n",
    "shape_analysis(seg_and_label(numb_image[0]))\n",
    "\n"
   ]
  },
  {
   "cell_type": "code",
   "execution_count": 13,
   "metadata": {},
   "outputs": [],
   "source": [
    "# Make it into a feature vector\n",
    "def full_analysis(in_img):\n",
    "    return np.array(list(shape_analysis(seg_and_label(in_img)).values()))"
   ]
  },
  {
   "attachments": {},
   "cell_type": "markdown",
   "metadata": {},
   "source": [
    "# Building a Classifier\n",
    "\n",
    "We use the same simple classifier as before but with the shape features instead of the image\n",
    "\n",
    "**Dataset:**\n",
    "\n",
    "Equal images per each shape form group 30 images (3 sets of 10 images per shape group)\n",
    "\n",
    " - 3 form categories: Line, Circle, Blob (parenchyma vs. cerebrovasculature)\n",
    "\n",
    "**Steps:**\n",
    " - 1) Create a compiled .csv file data frame to hold all pixels (reshaped as 28x28)\n",
    " - 2) Split images into train vs. test data (15 per dataset, equal amounts of each shape)\n",
    " - 3) Label connected components\n",
    " - 4) Perform shape analysis to quantify image with few parameters (i.e. anisotropy, mean orientation, total area, perimeter)\n",
    " - 5) Build a classifier using these shape features\n",
    " - 6) Use MAE (mean absolute error) to find best match"
   ]
  },
  {
   "cell_type": "code",
   "execution_count": 14,
   "metadata": {},
   "outputs": [],
   "source": [
    "digit_examples = {} # we use a dictionary to store the results\n",
    "digit_features = {} # we use a dictionary to store the results\n",
    "\n",
    "for cur_digit in np.unique(numb_id):\n",
    "    # find the first example\n",
    "    digit_matches = np.where(numb_id == cur_digit)\n",
    "    digit_examples[cur_digit] = numb_image[digit_matches[0][0]]\n",
    "    digit_features[cur_digit] = full_analysis(numb_image[digit_matches[0][0]])"
   ]
  },
  {
   "cell_type": "markdown",
   "metadata": {},
   "source": [
    "**3 categories of forms:** Blob (1), Circle (2), Line (3)"
   ]
  },
  {
   "cell_type": "code",
   "execution_count": 15,
   "metadata": {},
   "outputs": [
    {
     "name": "stdout",
     "output_type": "stream",
     "text": [
      "Digit 1.0\n",
      "[1.51000000e+02 6.08345238e+01 8.43295032e-02 1.32938364e+00]\n",
      "Digit 2.0\n",
      "[1.86000000e+02 9.83969696e+01 6.65136796e-02 2.77951191e-01]\n",
      "Digit 3.0\n",
      "[84.         57.49137803  3.27685484 -0.71116957]\n"
     ]
    },
    {
     "data": {
      "image/png": "[encoded data removed]",
      "text/plain": [
       "<Figure size 720x216 with 3 Axes>"
      ]
     },
     "metadata": {
      "needs_background": "light"
     },
     "output_type": "display_data"
    }
   ],
   "source": [
    "fig, c_axs = plt.subplots(1, len(digit_examples), figsize = (10, 3))\n",
    "for c_ax, (c_digit, c_img) in zip(c_axs, digit_examples.items()):\n",
    "    c_ax.imshow(c_img, cmap = 'gray', interpolation = 'none')\n",
    "    c_ax.set_title('Digit {}'.format(c_digit))\n",
    "    c_ax.axis('off')\n",
    "    print('Digit {}'.format(c_digit))\n",
    "    print(full_analysis(c_img))"
   ]
  },
  {
   "cell_type": "code",
   "execution_count": 16,
   "metadata": {},
   "outputs": [],
   "source": [
    "# Using the dictionary of example digits we can build a very simple classifier using the MAE (mean absolute error) to find the best match\n",
    "\n",
    "def mae(fvec1,fvec2):\n",
    "    return np.mean(np.abs(fvec1-fvec2))\n",
    "\n",
    "def classify_image(example_dict, in_image):\n",
    "    score_dict = {c_digit: mae(full_analysis(in_image), c_fvec) for c_digit, c_fvec in example_dict.items()}\n",
    "    best_digit, best_score = sorted(score_dict.items(), key = lambda x: x[1])[0] # sort by score and take the first item\n",
    "    return best_digit, score_dict"
   ]
  },
  {
   "cell_type": "code",
   "execution_count": 18,
   "metadata": {},
   "outputs": [
    {
     "name": "stdout",
     "output_type": "stream",
     "text": [
      "Guessed 1.0, actual result was 1.0\n",
      "Score for other numbers: {1.0: 5.564495359990337, 2.0: 16.906285697030317, 3.0: 20.329560714868098}\n"
     ]
    },
    {
     "data": {
      "text/plain": [
       "Text(0.5, 1.0, 'MAE for each digit feature vector')"
      ]
     },
     "execution_count": 18,
     "metadata": {},
     "output_type": "execute_result"
    },
    {
     "data": {
      "image/png": "[encoded data removed]",
      "text/plain": [
       "<Figure size 720x360 with 2 Axes>"
      ]
     },
     "metadata": {
      "needs_background": "light"
     },
     "output_type": "display_data"
    }
   ],
   "source": [
    "rand_digit = np.random.choice(range(len(numb_image))) # just picks a random digit\n",
    "\n",
    "guess_digit, guess_dict = classify_image(digit_features, numb_image[rand_digit])\n",
    "print('Guessed {}, actual result was {}'.format(guess_digit, numb_id[rand_digit]))\n",
    "print('Score for other numbers:', guess_dict)\n",
    "# show the results\n",
    "fig, (ax_img, ax_score) = plt.subplots(1,2, figsize = (10, 5))\n",
    "ax_img.imshow(numb_image[rand_digit], cmap = 'gray', interpolation = 'none')\n",
    "ax_img.set_title('Guessed {}, actual result was {}'.format(guess_digit, numb_id[rand_digit]))\n",
    "ax_score.bar(list(guess_dict.keys()), list(guess_dict.values()))\n",
    "ax_score.set_xlabel('Digit')\n",
    "ax_score.set_ylabel('MAE')\n",
    "ax_score.set_title('MAE for each digit feature vector')"
   ]
  },
  {
   "cell_type": "markdown",
   "metadata": {},
   "source": [
    "Let's try one more time..."
   ]
  },
  {
   "cell_type": "code",
   "execution_count": 21,
   "metadata": {},
   "outputs": [
    {
     "name": "stdout",
     "output_type": "stream",
     "text": [
      "Guessed 3.0, actual result was 3.0\n",
      "Score for other numbers: {1.0: 18.894056074858437, 2.0: 36.77626337892274, 3.0: 0.0}\n"
     ]
    },
    {
     "data": {
      "text/plain": [
       "Text(0.5, 1.0, 'MAE for each digit feature vector')"
      ]
     },
     "execution_count": 21,
     "metadata": {},
     "output_type": "execute_result"
    },
    {
     "data": {
      "image/png": "[encoded data removed]",
      "text/plain": [
       "<Figure size 720x360 with 2 Axes>"
      ]
     },
     "metadata": {
      "needs_background": "light"
     },
     "output_type": "display_data"
    }
   ],
   "source": [
    "rand_digit = np.random.choice(range(len(numb_image))) # just picks a random digit\n",
    "\n",
    "guess_digit, guess_dict = classify_image(digit_features, numb_image[rand_digit])\n",
    "print('Guessed {}, actual result was {}'.format(guess_digit, numb_id[rand_digit]))\n",
    "print('Score for other numbers:', guess_dict)\n",
    "# show the results\n",
    "fig, (ax_img, ax_score) = plt.subplots(1,2, figsize = (10, 5))\n",
    "ax_img.imshow(numb_image[rand_digit], cmap = 'gray', interpolation = 'none')\n",
    "ax_img.set_title('Guessed {}, actual result was {}'.format(guess_digit, numb_id[rand_digit]))\n",
    "ax_score.bar(list(guess_dict.keys()), list(guess_dict.values()))\n",
    "ax_score.set_xlabel('Digit')\n",
    "ax_score.set_ylabel('MAE')\n",
    "ax_score.set_title('MAE for each digit feature vector')"
   ]
  },
  {
   "cell_type": "markdown",
   "metadata": {},
   "source": [
    "# Submit an Entry\n",
    "\n",
    "We can now submit an entry to the contest by running our digit classifier on all of the test images. \n",
    "The data for the test images is the same as the training data but there are no labels."
   ]
  },
  {
   "cell_type": "code",
   "execution_count": 18,
   "metadata": {},
   "outputs": [
    {
     "name": "stdout",
     "output_type": "stream",
     "text": [
      "Test Vec (14, 784)\n"
     ]
    }
   ],
   "source": [
    "test_vec = np.loadtxt(test_data_path, delimiter = ',', skiprows = 1)\n",
    "print('Test Vec', test_vec.shape)"
   ]
  },
  {
   "cell_type": "code",
   "execution_count": 19,
   "metadata": {},
   "outputs": [
    {
     "name": "stdout",
     "output_type": "stream",
     "text": [
      "Test Image (14, 28, 28)\n"
     ]
    }
   ],
   "source": [
    "test_image = test_vec.reshape(-1, 28, 28)\n",
    "print('Test Image', test_image.shape)"
   ]
  },
  {
   "cell_type": "markdown",
   "metadata": {},
   "source": [
    "# Predict a form for each image\n",
    "\n",
    "Here we make a guess for each image by using our classify_image function and just keeping the first result (the digit) and not the entire dictionary"
   ]
  },
  {
   "cell_type": "code",
   "execution_count": 21,
   "metadata": {},
   "outputs": [
    {
     "name": "stdout",
     "output_type": "stream",
     "text": [
      "Wall time: 58 ms\n"
     ]
    }
   ],
   "source": [
    "%%time\n",
    "guess_test_data = [classify_image(digit_features, c_img)[0] for c_img in test_image]"
   ]
  },
  {
   "cell_type": "code",
   "execution_count": 34,
   "metadata": {},
   "outputs": [],
   "source": [
    "with open('submission.csv', 'w') as out_file:\n",
    "    out_file.write('ImageId,Label\\n')\n",
    "    for img_id, guess_label in enumerate(guess_test_data):\n",
    "        out_file.write('%d,%d\\n' % (img_id+1, guess_label))"
   ]
  },
  {
   "attachments": {},
   "cell_type": "markdown",
   "metadata": {},
   "source": [
    "# Future Analysis\n",
    "<br>\n",
    "\n",
    "### **Additional parameters that can be used for shape analysis?**\n",
    " - **Directional Analysis:** \n",
    "     - Looking at the orientation of different components using Fourier analysis (Analyze Directionality)\n",
    " - **Tubeness / Surfaceness:** \n",
    "     - Characterize binary images and the shape at each point similar to curvature but with a different underlying model\n",
    "     - Tubeness: Enhances filamentous structures of a specified thickness (trace neurons)\n",
    "\n",
    "\n",
    "### **Advanced Investigation of Surface Structure** \n",
    "\n",
    " - **Curvature:** Visual indication of cell differences (amyloid is the most circular item in the image) independent of its size\n",
    " - **Interface - Perimeter:** Help differentiate connectivity of cell networks\n",
    " - **Further Texture Analysis:** what feature detections are best correlated with amyloid object (i.e. co-occurrence matrix) \n",
    "     - Contrast \n",
    "         - Dissimilarity \n",
    "         - Homogeneity\n",
    "     - Orderliness\n",
    "         - How regular (“orderly”) the pixel value differences are\n",
    "     - Entropy / Energy\n",
    "         - Higher entropy value indicates greater complex variability (i.e. yields more useful information vs. “fog” image consisting of identical pixels)\n",
    "         - ASM (Angular second moment) - orderly\n",
    "     - Correlation\n",
    "         - Measures linear dependency of grey levels on those of neighboring pixels \n"
   ]
  }
 ],
 "metadata": {
  "kernelspec": {
   "display_name": "Python [conda env:root]",
   "language": "python",
   "name": "conda-root-py"
  },
  "language_info": {
   "codemirror_mode": {
    "name": "ipython",
    "version": 3
   },
   "file_extension": ".py",
   "mimetype": "text/x-python",
   "name": "python",
   "nbconvert_exporter": "python",
   "pygments_lexer": "ipython3",
   "version": "3.7.4"
  }
 },
 "nbformat": 4,
 "nbformat_minor": 2
}
